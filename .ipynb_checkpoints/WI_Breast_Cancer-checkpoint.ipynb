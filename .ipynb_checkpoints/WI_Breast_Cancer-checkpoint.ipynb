{
 "cells": [
  {
   "cell_type": "markdown",
   "id": "fdd4e170-2648-4694-97b0-c853e0d10cc8",
   "metadata": {},
   "source": [
    "# Import Section"
   ]
  },
  {
   "cell_type": "code",
   "execution_count": 1,
   "id": "0dfa8257",
   "metadata": {},
   "outputs": [],
   "source": [
    "# data operations libraries\n",
    "import pandas as pd\n",
    "import numpy as np\n",
    "import pickle\n",
    "\n",
    "# Ipython.display \n",
    "from IPython.display import HTML\n",
    "from IPython.display import IFrame\n",
    "from IPython.display import display\n",
    "from IPython.display import Image\n",
    "\n",
    "# data visualization\n",
    "import matplotlib.pyplot as plt\n",
    "import matplotlib\n",
    "matplotlib.style.use('ggplot')\n",
    "%matplotlib inline \n",
    "matplotlib.rcParams['figure.figsize'] = (5,5)\n",
    "import seaborn as sns\n",
    "\n",
    "\n",
    "# machine learning import statements\n",
    "from sklearn.model_selection import cross_val_predict\n",
    "from sklearn.linear_model import LogisticRegression\n",
    "from sklearn.svm import SVC, LinearSVC\n",
    "from sklearn.ensemble import RandomForestClassifier\n",
    "from sklearn.tree import DecisionTreeClassifier\n",
    "from sklearn.ensemble import ExtraTreesClassifier\n",
    "from sklearn.model_selection import GridSearchCV\n",
    "from sklearn.tree import export_graphviz\n",
    "from sklearn.metrics import roc_auc_score\n",
    "from sklearn.metrics import roc_curve\n",
    "from sklearn.metrics import confusion_matrix\n",
    "from sklearn.metrics import classification_report\n",
    "from statsmodels.stats.outliers_influence import variance_inflation_factor\n",
    "from sklearn.inspection import permutation_importance"
   ]
  },
  {
   "cell_type": "markdown",
   "id": "2f14bab5-eade-4b0e-b308-970caa4257b1",
   "metadata": {},
   "source": [
    "# Data Cleaning Section"
   ]
  },
  {
   "cell_type": "code",
   "execution_count": 2,
   "id": "0f49b3b5",
   "metadata": {},
   "outputs": [
    {
     "data": {
      "text/html": [
       "<div>\n",
       "<style scoped>\n",
       "    .dataframe tbody tr th:only-of-type {\n",
       "        vertical-align: middle;\n",
       "    }\n",
       "\n",
       "    .dataframe tbody tr th {\n",
       "        vertical-align: top;\n",
       "    }\n",
       "\n",
       "    .dataframe thead th {\n",
       "        text-align: right;\n",
       "    }\n",
       "</style>\n",
       "<table border=\"1\" class=\"dataframe\">\n",
       "  <thead>\n",
       "    <tr style=\"text-align: right;\">\n",
       "      <th></th>\n",
       "      <th>id</th>\n",
       "      <th>clump_thickness</th>\n",
       "      <th>unif_cell_size</th>\n",
       "      <th>unif_cell_shape</th>\n",
       "      <th>marg_adhesion</th>\n",
       "      <th>single_epith_cell_size</th>\n",
       "      <th>bare_nuclei</th>\n",
       "      <th>bland_chrom</th>\n",
       "      <th>norm_nucleoli</th>\n",
       "      <th>mitoses</th>\n",
       "      <th>class</th>\n",
       "    </tr>\n",
       "  </thead>\n",
       "  <tbody>\n",
       "    <tr>\n",
       "      <th>0</th>\n",
       "      <td>1000025</td>\n",
       "      <td>5</td>\n",
       "      <td>1</td>\n",
       "      <td>1</td>\n",
       "      <td>1</td>\n",
       "      <td>2</td>\n",
       "      <td>1</td>\n",
       "      <td>3</td>\n",
       "      <td>1</td>\n",
       "      <td>1</td>\n",
       "      <td>2</td>\n",
       "    </tr>\n",
       "    <tr>\n",
       "      <th>1</th>\n",
       "      <td>1002945</td>\n",
       "      <td>5</td>\n",
       "      <td>4</td>\n",
       "      <td>4</td>\n",
       "      <td>5</td>\n",
       "      <td>7</td>\n",
       "      <td>10</td>\n",
       "      <td>3</td>\n",
       "      <td>2</td>\n",
       "      <td>1</td>\n",
       "      <td>2</td>\n",
       "    </tr>\n",
       "    <tr>\n",
       "      <th>2</th>\n",
       "      <td>1015425</td>\n",
       "      <td>3</td>\n",
       "      <td>1</td>\n",
       "      <td>1</td>\n",
       "      <td>1</td>\n",
       "      <td>2</td>\n",
       "      <td>2</td>\n",
       "      <td>3</td>\n",
       "      <td>1</td>\n",
       "      <td>1</td>\n",
       "      <td>2</td>\n",
       "    </tr>\n",
       "    <tr>\n",
       "      <th>3</th>\n",
       "      <td>1016277</td>\n",
       "      <td>6</td>\n",
       "      <td>8</td>\n",
       "      <td>8</td>\n",
       "      <td>1</td>\n",
       "      <td>3</td>\n",
       "      <td>4</td>\n",
       "      <td>3</td>\n",
       "      <td>7</td>\n",
       "      <td>1</td>\n",
       "      <td>2</td>\n",
       "    </tr>\n",
       "    <tr>\n",
       "      <th>4</th>\n",
       "      <td>1017023</td>\n",
       "      <td>4</td>\n",
       "      <td>1</td>\n",
       "      <td>1</td>\n",
       "      <td>3</td>\n",
       "      <td>2</td>\n",
       "      <td>1</td>\n",
       "      <td>3</td>\n",
       "      <td>1</td>\n",
       "      <td>1</td>\n",
       "      <td>2</td>\n",
       "    </tr>\n",
       "  </tbody>\n",
       "</table>\n",
       "</div>"
      ],
      "text/plain": [
       "        id  clump_thickness  unif_cell_size  unif_cell_shape  marg_adhesion  \\\n",
       "0  1000025                5               1                1              1   \n",
       "1  1002945                5               4                4              5   \n",
       "2  1015425                3               1                1              1   \n",
       "3  1016277                6               8                8              1   \n",
       "4  1017023                4               1                1              3   \n",
       "\n",
       "   single_epith_cell_size bare_nuclei  bland_chrom  norm_nucleoli  mitoses  \\\n",
       "0                       2           1            3              1        1   \n",
       "1                       7          10            3              2        1   \n",
       "2                       2           2            3              1        1   \n",
       "3                       3           4            3              7        1   \n",
       "4                       2           1            3              1        1   \n",
       "\n",
       "   class  \n",
       "0      2  \n",
       "1      2  \n",
       "2      2  \n",
       "3      2  \n",
       "4      2  "
      ]
     },
     "execution_count": 2,
     "metadata": {},
     "output_type": "execute_result"
    }
   ],
   "source": [
    "df = pd.read_csv('breast-cancer-wisconsin.data.txt')\n",
    "df.head()"
   ]
  },
  {
   "cell_type": "code",
   "execution_count": 3,
   "id": "2edf96df-e4b2-44f9-a5b9-d1f5836df3eb",
   "metadata": {},
   "outputs": [
    {
     "name": "stdout",
     "output_type": "stream",
     "text": [
      "0.655 of the dataset are benign cells\n"
     ]
    }
   ],
   "source": [
    "#Calculate proportion of Classes\n",
    "# 2 = benign, 4 = malignant\n",
    "prop_benign = (df['class'] == 2).sum() / len(df['class'])\n",
    "print(f\"{prop_benign:.3} of the dataset are benign cells\")"
   ]
  },
  {
   "cell_type": "code",
   "execution_count": 4,
   "id": "c89fb88e-a891-4f58-8b4e-6854b9ad822d",
   "metadata": {},
   "outputs": [],
   "source": [
    "# Make a table to store model results\n",
    "score_cols = ['Model','Precision','Recall','F1_Score','Accuracy','ROC_Area']\n",
    "scores = pd.DataFrame(columns=score_cols)"
   ]
  },
  {
   "cell_type": "code",
   "execution_count": 5,
   "id": "f4e923eb-888a-4b91-8e7a-93c63aee7e26",
   "metadata": {},
   "outputs": [
    {
     "data": {
      "text/html": [
       "<div>\n",
       "<style scoped>\n",
       "    .dataframe tbody tr th:only-of-type {\n",
       "        vertical-align: middle;\n",
       "    }\n",
       "\n",
       "    .dataframe tbody tr th {\n",
       "        vertical-align: top;\n",
       "    }\n",
       "\n",
       "    .dataframe thead th {\n",
       "        text-align: right;\n",
       "    }\n",
       "</style>\n",
       "<table border=\"1\" class=\"dataframe\">\n",
       "  <thead>\n",
       "    <tr style=\"text-align: right;\">\n",
       "      <th></th>\n",
       "      <th>id</th>\n",
       "      <th>clump_thickness</th>\n",
       "      <th>unif_cell_size</th>\n",
       "      <th>unif_cell_shape</th>\n",
       "      <th>marg_adhesion</th>\n",
       "      <th>single_epith_cell_size</th>\n",
       "      <th>bland_chrom</th>\n",
       "      <th>norm_nucleoli</th>\n",
       "      <th>mitoses</th>\n",
       "      <th>class</th>\n",
       "    </tr>\n",
       "  </thead>\n",
       "  <tbody>\n",
       "    <tr>\n",
       "      <th>count</th>\n",
       "      <td>6.990000e+02</td>\n",
       "      <td>699.000000</td>\n",
       "      <td>699.000000</td>\n",
       "      <td>699.000000</td>\n",
       "      <td>699.000000</td>\n",
       "      <td>699.000000</td>\n",
       "      <td>699.000000</td>\n",
       "      <td>699.000000</td>\n",
       "      <td>699.000000</td>\n",
       "      <td>699.000000</td>\n",
       "    </tr>\n",
       "    <tr>\n",
       "      <th>mean</th>\n",
       "      <td>1.071704e+06</td>\n",
       "      <td>4.417740</td>\n",
       "      <td>3.134478</td>\n",
       "      <td>3.207439</td>\n",
       "      <td>2.806867</td>\n",
       "      <td>3.216023</td>\n",
       "      <td>3.437768</td>\n",
       "      <td>2.866953</td>\n",
       "      <td>1.589413</td>\n",
       "      <td>2.689557</td>\n",
       "    </tr>\n",
       "    <tr>\n",
       "      <th>std</th>\n",
       "      <td>6.170957e+05</td>\n",
       "      <td>2.815741</td>\n",
       "      <td>3.051459</td>\n",
       "      <td>2.971913</td>\n",
       "      <td>2.855379</td>\n",
       "      <td>2.214300</td>\n",
       "      <td>2.438364</td>\n",
       "      <td>3.053634</td>\n",
       "      <td>1.715078</td>\n",
       "      <td>0.951273</td>\n",
       "    </tr>\n",
       "    <tr>\n",
       "      <th>min</th>\n",
       "      <td>6.163400e+04</td>\n",
       "      <td>1.000000</td>\n",
       "      <td>1.000000</td>\n",
       "      <td>1.000000</td>\n",
       "      <td>1.000000</td>\n",
       "      <td>1.000000</td>\n",
       "      <td>1.000000</td>\n",
       "      <td>1.000000</td>\n",
       "      <td>1.000000</td>\n",
       "      <td>2.000000</td>\n",
       "    </tr>\n",
       "    <tr>\n",
       "      <th>25%</th>\n",
       "      <td>8.706885e+05</td>\n",
       "      <td>2.000000</td>\n",
       "      <td>1.000000</td>\n",
       "      <td>1.000000</td>\n",
       "      <td>1.000000</td>\n",
       "      <td>2.000000</td>\n",
       "      <td>2.000000</td>\n",
       "      <td>1.000000</td>\n",
       "      <td>1.000000</td>\n",
       "      <td>2.000000</td>\n",
       "    </tr>\n",
       "    <tr>\n",
       "      <th>50%</th>\n",
       "      <td>1.171710e+06</td>\n",
       "      <td>4.000000</td>\n",
       "      <td>1.000000</td>\n",
       "      <td>1.000000</td>\n",
       "      <td>1.000000</td>\n",
       "      <td>2.000000</td>\n",
       "      <td>3.000000</td>\n",
       "      <td>1.000000</td>\n",
       "      <td>1.000000</td>\n",
       "      <td>2.000000</td>\n",
       "    </tr>\n",
       "    <tr>\n",
       "      <th>75%</th>\n",
       "      <td>1.238298e+06</td>\n",
       "      <td>6.000000</td>\n",
       "      <td>5.000000</td>\n",
       "      <td>5.000000</td>\n",
       "      <td>4.000000</td>\n",
       "      <td>4.000000</td>\n",
       "      <td>5.000000</td>\n",
       "      <td>4.000000</td>\n",
       "      <td>1.000000</td>\n",
       "      <td>4.000000</td>\n",
       "    </tr>\n",
       "    <tr>\n",
       "      <th>max</th>\n",
       "      <td>1.345435e+07</td>\n",
       "      <td>10.000000</td>\n",
       "      <td>10.000000</td>\n",
       "      <td>10.000000</td>\n",
       "      <td>10.000000</td>\n",
       "      <td>10.000000</td>\n",
       "      <td>10.000000</td>\n",
       "      <td>10.000000</td>\n",
       "      <td>10.000000</td>\n",
       "      <td>4.000000</td>\n",
       "    </tr>\n",
       "  </tbody>\n",
       "</table>\n",
       "</div>"
      ],
      "text/plain": [
       "                 id  clump_thickness  unif_cell_size  unif_cell_shape  \\\n",
       "count  6.990000e+02       699.000000      699.000000       699.000000   \n",
       "mean   1.071704e+06         4.417740        3.134478         3.207439   \n",
       "std    6.170957e+05         2.815741        3.051459         2.971913   \n",
       "min    6.163400e+04         1.000000        1.000000         1.000000   \n",
       "25%    8.706885e+05         2.000000        1.000000         1.000000   \n",
       "50%    1.171710e+06         4.000000        1.000000         1.000000   \n",
       "75%    1.238298e+06         6.000000        5.000000         5.000000   \n",
       "max    1.345435e+07        10.000000       10.000000        10.000000   \n",
       "\n",
       "       marg_adhesion  single_epith_cell_size  bland_chrom  norm_nucleoli  \\\n",
       "count     699.000000              699.000000   699.000000     699.000000   \n",
       "mean        2.806867                3.216023     3.437768       2.866953   \n",
       "std         2.855379                2.214300     2.438364       3.053634   \n",
       "min         1.000000                1.000000     1.000000       1.000000   \n",
       "25%         1.000000                2.000000     2.000000       1.000000   \n",
       "50%         1.000000                2.000000     3.000000       1.000000   \n",
       "75%         4.000000                4.000000     5.000000       4.000000   \n",
       "max        10.000000               10.000000    10.000000      10.000000   \n",
       "\n",
       "          mitoses       class  \n",
       "count  699.000000  699.000000  \n",
       "mean     1.589413    2.689557  \n",
       "std      1.715078    0.951273  \n",
       "min      1.000000    2.000000  \n",
       "25%      1.000000    2.000000  \n",
       "50%      1.000000    2.000000  \n",
       "75%      1.000000    4.000000  \n",
       "max     10.000000    4.000000  "
      ]
     },
     "execution_count": 5,
     "metadata": {},
     "output_type": "execute_result"
    }
   ],
   "source": [
    "df.describe()"
   ]
  },
  {
   "cell_type": "markdown",
   "id": "8b8a6731-7770-44bf-b862-aa609c2a3a99",
   "metadata": {},
   "source": [
    "# Visualization Section"
   ]
  },
  {
   "cell_type": "code",
   "execution_count": 6,
   "id": "3213e0e6-c45e-4c58-96d6-341f66ee7635",
   "metadata": {},
   "outputs": [],
   "source": [
    "#Titling\n",
    "custom_titles = {'A': 'Class A Title', 'class = 4': 'Class B Title'}"
   ]
  },
  {
   "cell_type": "markdown",
   "id": "8ac8ad4a-dd79-4643-a4f1-b02d9b6d1b3b",
   "metadata": {},
   "source": [
    "First utilize histograms with facetgrids to visualize the distribution of benign (2) vs. malignant (4) cells of each of the features"
   ]
  },
  {
   "cell_type": "markdown",
   "id": "f4ce6733-c906-465e-a418-225f945df1f2",
   "metadata": {
    "jp-MarkdownHeadingCollapsed": true
   },
   "source": [
    "### Unif_Cell Size"
   ]
  },
  {
   "cell_type": "code",
   "execution_count": 7,
   "id": "129a3dd1-640d-4df6-8182-12adc0917f9c",
   "metadata": {},
   "outputs": [
    {
     "data": {
      "text/plain": [
       "<seaborn.axisgrid.FacetGrid at 0x1c5c61425b0>"
      ]
     },
     "execution_count": 7,
     "metadata": {},
     "output_type": "execute_result"
    },
    {
     "data": {
      "image/png": "[encoded data removed]",
      "text/plain": [
       "<Figure size 432x216 with 2 Axes>"
      ]
     },
     "metadata": {
      "needs_background": "light"
     },
     "output_type": "display_data"
    }
   ],
   "source": [
    "hist = sns.FacetGrid(df, col='class')\n",
    "hist.map(sns.histplot,\"unif_cell_size\")"
   ]
  },
  {
   "cell_type": "markdown",
   "id": "4290d41e-83d6-4d7d-949a-7ad0b2f64dd6",
   "metadata": {
    "jp-MarkdownHeadingCollapsed": true
   },
   "source": [
    "### Clump Thickness"
   ]
  },
  {
   "cell_type": "code",
   "execution_count": 8,
   "id": "512baac6-8389-413e-82c5-339057180382",
   "metadata": {},
   "outputs": [
    {
     "data": {
      "text/plain": [
       "<seaborn.axisgrid.FacetGrid at 0x1c5c61423a0>"
      ]
     },
     "execution_count": 8,
     "metadata": {},
     "output_type": "execute_result"
    },
    {
     "data": {
      "image/png": "[encoded data removed]",
      "text/plain": [
       "<Figure size 432x216 with 2 Axes>"
      ]
     },
     "metadata": {
      "needs_background": "light"
     },
     "output_type": "display_data"
    }
   ],
   "source": [
    "hist = sns.FacetGrid(df, col='class')\n",
    "hist.map(sns.histplot,\"clump_thickness\")"
   ]
  },
  {
   "cell_type": "markdown",
   "id": "d311e169-c66c-4b9d-aaeb-9aabf0ac0ea9",
   "metadata": {
    "jp-MarkdownHeadingCollapsed": true
   },
   "source": [
    "### unif_cell_shape"
   ]
  },
  {
   "cell_type": "code",
   "execution_count": 9,
   "id": "d90b8df6-3a1f-45b9-b4e5-37ef83f8553d",
   "metadata": {},
   "outputs": [
    {
     "data": {
      "text/plain": [
       "<seaborn.axisgrid.FacetGrid at 0x1c5c698a3d0>"
      ]
     },
     "execution_count": 9,
     "metadata": {},
     "output_type": "execute_result"
    },
    {
     "data": {
      "image/png": "[encoded data removed]",
      "text/plain": [
       "<Figure size 432x216 with 2 Axes>"
      ]
     },
     "metadata": {
      "needs_background": "light"
     },
     "output_type": "display_data"
    }
   ],
   "source": [
    "hist = sns.FacetGrid(df, col='class')\n",
    "hist.map(sns.histplot,\"unif_cell_shape\")"
   ]
  },
  {
   "cell_type": "markdown",
   "id": "b30928d6-296e-4906-83b1-a8ce36750fb9",
   "metadata": {},
   "source": [
    "### marg_adhesion"
   ]
  },
  {
   "cell_type": "code",
   "execution_count": 10,
   "id": "a6fcee4d-fd6e-45ac-aee1-6b114e965a69",
   "metadata": {},
   "outputs": [
    {
     "data": {
      "text/plain": [
       "<seaborn.axisgrid.FacetGrid at 0x1c5c6a7c8b0>"
      ]
     },
     "execution_count": 10,
     "metadata": {},
     "output_type": "execute_result"
    },
    {
     "data": {
      "image/png": "[encoded data removed]",
      "text/plain": [
       "<Figure size 432x216 with 2 Axes>"
      ]
     },
     "metadata": {
      "needs_background": "light"
     },
     "output_type": "display_data"
    }
   ],
   "source": [
    "hist = sns.FacetGrid(df, col='class')\n",
    "hist.map(sns.histplot,\"marg_adhesion\")"
   ]
  },
  {
   "cell_type": "markdown",
   "id": "fc6bba0f-e863-442f-8b45-ccb2e6b2a64f",
   "metadata": {},
   "source": [
    "### single_epith_cell_size"
   ]
  },
  {
   "cell_type": "code",
   "execution_count": 11,
   "id": "37480ada-bc94-4647-8f2f-270893443f29",
   "metadata": {},
   "outputs": [
    {
     "data": {
      "text/plain": [
       "<seaborn.axisgrid.FacetGrid at 0x1c5c182d5e0>"
      ]
     },
     "execution_count": 11,
     "metadata": {},
     "output_type": "execute_result"
    },
    {
     "data": {
      "image/png": "[encoded data removed]",
      "text/plain": [
       "<Figure size 432x216 with 2 Axes>"
      ]
     },
     "metadata": {
      "needs_background": "light"
     },
     "output_type": "display_data"
    }
   ],
   "source": [
    "hist = sns.FacetGrid(df, col='class')\n",
    "hist.map(sns.histplot,\"single_epith_cell_size\")"
   ]
  },
  {
   "cell_type": "markdown",
   "id": "274a5208-5ce8-488e-b8fb-ee5e7a933621",
   "metadata": {},
   "source": [
    "### bland_chrom"
   ]
  },
  {
   "cell_type": "code",
   "execution_count": 12,
   "id": "4051925d-af2d-419d-b5a2-fa74682197db",
   "metadata": {},
   "outputs": [
    {
     "data": {
      "text/plain": [
       "<seaborn.axisgrid.FacetGrid at 0x1c5c1969d90>"
      ]
     },
     "execution_count": 12,
     "metadata": {},
     "output_type": "execute_result"
    },
    {
     "data": {
      "image/png": "[encoded data removed]",
      "text/plain": [
       "<Figure size 432x216 with 2 Axes>"
      ]
     },
     "metadata": {
      "needs_background": "light"
     },
     "output_type": "display_data"
    }
   ],
   "source": [
    "hist = sns.FacetGrid(df, col='class')\n",
    "hist.map(sns.histplot,\"bland_chrom\")"
   ]
  },
  {
   "cell_type": "markdown",
   "id": "0b6f994b-f69a-4e4d-8966-3acfe24efd8d",
   "metadata": {},
   "source": [
    "### norm_nucleoli"
   ]
  },
  {
   "cell_type": "code",
   "execution_count": 13,
   "id": "5d99f81c-4177-4900-a51c-f6ed542fc44e",
   "metadata": {},
   "outputs": [
    {
     "data": {
      "text/plain": [
       "<seaborn.axisgrid.FacetGrid at 0x1c5c19ea190>"
      ]
     },
     "execution_count": 13,
     "metadata": {},
     "output_type": "execute_result"
    },
    {
     "data": {
      "image/png": "[encoded data removed]",
      "text/plain": [
       "<Figure size 432x216 with 2 Axes>"
      ]
     },
     "metadata": {
      "needs_background": "light"
     },
     "output_type": "display_data"
    }
   ],
   "source": [
    "hist = sns.FacetGrid(df, col='class')\n",
    "hist.map(sns.histplot,\"norm_nucleoli\")"
   ]
  },
  {
   "cell_type": "markdown",
   "id": "0854ae98-3cdf-4ef1-9471-91485d2618ec",
   "metadata": {},
   "source": [
    "### mitoses"
   ]
  },
  {
   "cell_type": "code",
   "execution_count": 14,
   "id": "cc40f592-b056-4cb6-8ebb-3b56e446fc99",
   "metadata": {},
   "outputs": [
    {
     "data": {
      "text/plain": [
       "<seaborn.axisgrid.FacetGrid at 0x1c5c80e77c0>"
      ]
     },
     "execution_count": 14,
     "metadata": {},
     "output_type": "execute_result"
    },
    {
     "data": {
      "image/png": "[encoded data removed]",
      "text/plain": [
       "<Figure size 432x216 with 2 Axes>"
      ]
     },
     "metadata": {
      "needs_background": "light"
     },
     "output_type": "display_data"
    }
   ],
   "source": [
    "hist = sns.FacetGrid(df, col='class')\n",
    "hist.map(sns.histplot,\"mitoses\")"
   ]
  },
  {
   "cell_type": "code",
   "execution_count": null,
   "id": "065a647f-9132-4e16-bc8f-c16418002afc",
   "metadata": {},
   "outputs": [],
   "source": []
  },
  {
   "cell_type": "code",
   "execution_count": 15,
   "id": "7b86344d-2c79-4ad0-bd5f-0c812605adb4",
   "metadata": {},
   "outputs": [
    {
     "data": {
      "text/html": [
       "<div>\n",
       "<style scoped>\n",
       "    .dataframe tbody tr th:only-of-type {\n",
       "        vertical-align: middle;\n",
       "    }\n",
       "\n",
       "    .dataframe tbody tr th {\n",
       "        vertical-align: top;\n",
       "    }\n",
       "\n",
       "    .dataframe thead th {\n",
       "        text-align: right;\n",
       "    }\n",
       "</style>\n",
       "<table border=\"1\" class=\"dataframe\">\n",
       "  <thead>\n",
       "    <tr style=\"text-align: right;\">\n",
       "      <th></th>\n",
       "      <th></th>\n",
       "      <th>id</th>\n",
       "      <th>clump_thickness</th>\n",
       "      <th>unif_cell_size</th>\n",
       "      <th>unif_cell_shape</th>\n",
       "      <th>marg_adhesion</th>\n",
       "      <th>single_epith_cell_size</th>\n",
       "      <th>bland_chrom</th>\n",
       "      <th>norm_nucleoli</th>\n",
       "      <th>mitoses</th>\n",
       "    </tr>\n",
       "    <tr>\n",
       "      <th>class</th>\n",
       "      <th></th>\n",
       "      <th></th>\n",
       "      <th></th>\n",
       "      <th></th>\n",
       "      <th></th>\n",
       "      <th></th>\n",
       "      <th></th>\n",
       "      <th></th>\n",
       "      <th></th>\n",
       "      <th></th>\n",
       "    </tr>\n",
       "  </thead>\n",
       "  <tbody>\n",
       "    <tr>\n",
       "      <th rowspan=\"8\" valign=\"top\">2</th>\n",
       "      <th>count</th>\n",
       "      <td>4.580000e+02</td>\n",
       "      <td>458.000000</td>\n",
       "      <td>458.000000</td>\n",
       "      <td>458.000000</td>\n",
       "      <td>458.000000</td>\n",
       "      <td>458.000000</td>\n",
       "      <td>458.000000</td>\n",
       "      <td>458.000000</td>\n",
       "      <td>458.000000</td>\n",
       "    </tr>\n",
       "    <tr>\n",
       "      <th>mean</th>\n",
       "      <td>1.107591e+06</td>\n",
       "      <td>2.956332</td>\n",
       "      <td>1.325328</td>\n",
       "      <td>1.443231</td>\n",
       "      <td>1.364629</td>\n",
       "      <td>2.120087</td>\n",
       "      <td>2.100437</td>\n",
       "      <td>1.290393</td>\n",
       "      <td>1.063319</td>\n",
       "    </tr>\n",
       "    <tr>\n",
       "      <th>std</th>\n",
       "      <td>7.234318e+05</td>\n",
       "      <td>1.674318</td>\n",
       "      <td>0.907694</td>\n",
       "      <td>0.997836</td>\n",
       "      <td>0.996830</td>\n",
       "      <td>0.917130</td>\n",
       "      <td>1.080339</td>\n",
       "      <td>1.058856</td>\n",
       "      <td>0.501995</td>\n",
       "    </tr>\n",
       "    <tr>\n",
       "      <th>min</th>\n",
       "      <td>6.163400e+04</td>\n",
       "      <td>1.000000</td>\n",
       "      <td>1.000000</td>\n",
       "      <td>1.000000</td>\n",
       "      <td>1.000000</td>\n",
       "      <td>1.000000</td>\n",
       "      <td>1.000000</td>\n",
       "      <td>1.000000</td>\n",
       "      <td>1.000000</td>\n",
       "    </tr>\n",
       "    <tr>\n",
       "      <th>25%</th>\n",
       "      <td>1.002614e+06</td>\n",
       "      <td>1.000000</td>\n",
       "      <td>1.000000</td>\n",
       "      <td>1.000000</td>\n",
       "      <td>1.000000</td>\n",
       "      <td>2.000000</td>\n",
       "      <td>1.000000</td>\n",
       "      <td>1.000000</td>\n",
       "      <td>1.000000</td>\n",
       "    </tr>\n",
       "    <tr>\n",
       "      <th>50%</th>\n",
       "      <td>1.180170e+06</td>\n",
       "      <td>3.000000</td>\n",
       "      <td>1.000000</td>\n",
       "      <td>1.000000</td>\n",
       "      <td>1.000000</td>\n",
       "      <td>2.000000</td>\n",
       "      <td>2.000000</td>\n",
       "      <td>1.000000</td>\n",
       "      <td>1.000000</td>\n",
       "    </tr>\n",
       "    <tr>\n",
       "      <th>75%</th>\n",
       "      <td>1.256870e+06</td>\n",
       "      <td>4.000000</td>\n",
       "      <td>1.000000</td>\n",
       "      <td>1.000000</td>\n",
       "      <td>1.000000</td>\n",
       "      <td>2.000000</td>\n",
       "      <td>3.000000</td>\n",
       "      <td>1.000000</td>\n",
       "      <td>1.000000</td>\n",
       "    </tr>\n",
       "    <tr>\n",
       "      <th>max</th>\n",
       "      <td>1.345435e+07</td>\n",
       "      <td>8.000000</td>\n",
       "      <td>9.000000</td>\n",
       "      <td>8.000000</td>\n",
       "      <td>10.000000</td>\n",
       "      <td>10.000000</td>\n",
       "      <td>7.000000</td>\n",
       "      <td>9.000000</td>\n",
       "      <td>8.000000</td>\n",
       "    </tr>\n",
       "    <tr>\n",
       "      <th rowspan=\"8\" valign=\"top\">4</th>\n",
       "      <th>count</th>\n",
       "      <td>2.410000e+02</td>\n",
       "      <td>241.000000</td>\n",
       "      <td>241.000000</td>\n",
       "      <td>241.000000</td>\n",
       "      <td>241.000000</td>\n",
       "      <td>241.000000</td>\n",
       "      <td>241.000000</td>\n",
       "      <td>241.000000</td>\n",
       "      <td>241.000000</td>\n",
       "    </tr>\n",
       "    <tr>\n",
       "      <th>mean</th>\n",
       "      <td>1.003505e+06</td>\n",
       "      <td>7.195021</td>\n",
       "      <td>6.572614</td>\n",
       "      <td>6.560166</td>\n",
       "      <td>5.547718</td>\n",
       "      <td>5.298755</td>\n",
       "      <td>5.979253</td>\n",
       "      <td>5.863071</td>\n",
       "      <td>2.589212</td>\n",
       "    </tr>\n",
       "    <tr>\n",
       "      <th>std</th>\n",
       "      <td>3.222323e+05</td>\n",
       "      <td>2.428849</td>\n",
       "      <td>2.719512</td>\n",
       "      <td>2.562045</td>\n",
       "      <td>3.210465</td>\n",
       "      <td>2.451606</td>\n",
       "      <td>2.273852</td>\n",
       "      <td>3.350672</td>\n",
       "      <td>2.557939</td>\n",
       "    </tr>\n",
       "    <tr>\n",
       "      <th>min</th>\n",
       "      <td>6.337500e+04</td>\n",
       "      <td>1.000000</td>\n",
       "      <td>1.000000</td>\n",
       "      <td>1.000000</td>\n",
       "      <td>1.000000</td>\n",
       "      <td>1.000000</td>\n",
       "      <td>1.000000</td>\n",
       "      <td>1.000000</td>\n",
       "      <td>1.000000</td>\n",
       "    </tr>\n",
       "    <tr>\n",
       "      <th>25%</th>\n",
       "      <td>8.322260e+05</td>\n",
       "      <td>5.000000</td>\n",
       "      <td>4.000000</td>\n",
       "      <td>4.000000</td>\n",
       "      <td>3.000000</td>\n",
       "      <td>3.000000</td>\n",
       "      <td>4.000000</td>\n",
       "      <td>3.000000</td>\n",
       "      <td>1.000000</td>\n",
       "    </tr>\n",
       "    <tr>\n",
       "      <th>50%</th>\n",
       "      <td>1.126417e+06</td>\n",
       "      <td>8.000000</td>\n",
       "      <td>6.000000</td>\n",
       "      <td>6.000000</td>\n",
       "      <td>5.000000</td>\n",
       "      <td>5.000000</td>\n",
       "      <td>7.000000</td>\n",
       "      <td>6.000000</td>\n",
       "      <td>1.000000</td>\n",
       "    </tr>\n",
       "    <tr>\n",
       "      <th>75%</th>\n",
       "      <td>1.221863e+06</td>\n",
       "      <td>10.000000</td>\n",
       "      <td>10.000000</td>\n",
       "      <td>9.000000</td>\n",
       "      <td>8.000000</td>\n",
       "      <td>6.000000</td>\n",
       "      <td>7.000000</td>\n",
       "      <td>10.000000</td>\n",
       "      <td>3.000000</td>\n",
       "    </tr>\n",
       "    <tr>\n",
       "      <th>max</th>\n",
       "      <td>1.371026e+06</td>\n",
       "      <td>10.000000</td>\n",
       "      <td>10.000000</td>\n",
       "      <td>10.000000</td>\n",
       "      <td>10.000000</td>\n",
       "      <td>10.000000</td>\n",
       "      <td>10.000000</td>\n",
       "      <td>10.000000</td>\n",
       "      <td>10.000000</td>\n",
       "    </tr>\n",
       "  </tbody>\n",
       "</table>\n",
       "</div>"
      ],
      "text/plain": [
       "                       id  clump_thickness  unif_cell_size  unif_cell_shape  \\\n",
       "class                                                                         \n",
       "2     count  4.580000e+02       458.000000      458.000000       458.000000   \n",
       "      mean   1.107591e+06         2.956332        1.325328         1.443231   \n",
       "      std    7.234318e+05         1.674318        0.907694         0.997836   \n",
       "      min    6.163400e+04         1.000000        1.000000         1.000000   \n",
       "      25%    1.002614e+06         1.000000        1.000000         1.000000   \n",
       "      50%    1.180170e+06         3.000000        1.000000         1.000000   \n",
       "      75%    1.256870e+06         4.000000        1.000000         1.000000   \n",
       "      max    1.345435e+07         8.000000        9.000000         8.000000   \n",
       "4     count  2.410000e+02       241.000000      241.000000       241.000000   \n",
       "      mean   1.003505e+06         7.195021        6.572614         6.560166   \n",
       "      std    3.222323e+05         2.428849        2.719512         2.562045   \n",
       "      min    6.337500e+04         1.000000        1.000000         1.000000   \n",
       "      25%    8.322260e+05         5.000000        4.000000         4.000000   \n",
       "      50%    1.126417e+06         8.000000        6.000000         6.000000   \n",
       "      75%    1.221863e+06        10.000000       10.000000         9.000000   \n",
       "      max    1.371026e+06        10.000000       10.000000        10.000000   \n",
       "\n",
       "             marg_adhesion  single_epith_cell_size  bland_chrom  \\\n",
       "class                                                             \n",
       "2     count     458.000000              458.000000   458.000000   \n",
       "      mean        1.364629                2.120087     2.100437   \n",
       "      std         0.996830                0.917130     1.080339   \n",
       "      min         1.000000                1.000000     1.000000   \n",
       "      25%         1.000000                2.000000     1.000000   \n",
       "      50%         1.000000                2.000000     2.000000   \n",
       "      75%         1.000000                2.000000     3.000000   \n",
       "      max        10.000000               10.000000     7.000000   \n",
       "4     count     241.000000              241.000000   241.000000   \n",
       "      mean        5.547718                5.298755     5.979253   \n",
       "      std         3.210465                2.451606     2.273852   \n",
       "      min         1.000000                1.000000     1.000000   \n",
       "      25%         3.000000                3.000000     4.000000   \n",
       "      50%         5.000000                5.000000     7.000000   \n",
       "      75%         8.000000                6.000000     7.000000   \n",
       "      max        10.000000               10.000000    10.000000   \n",
       "\n",
       "             norm_nucleoli     mitoses  \n",
       "class                                   \n",
       "2     count     458.000000  458.000000  \n",
       "      mean        1.290393    1.063319  \n",
       "      std         1.058856    0.501995  \n",
       "      min         1.000000    1.000000  \n",
       "      25%         1.000000    1.000000  \n",
       "      50%         1.000000    1.000000  \n",
       "      75%         1.000000    1.000000  \n",
       "      max         9.000000    8.000000  \n",
       "4     count     241.000000  241.000000  \n",
       "      mean        5.863071    2.589212  \n",
       "      std         3.350672    2.557939  \n",
       "      min         1.000000    1.000000  \n",
       "      25%         3.000000    1.000000  \n",
       "      50%         6.000000    1.000000  \n",
       "      75%        10.000000    3.000000  \n",
       "      max        10.000000   10.000000  "
      ]
     },
     "execution_count": 15,
     "metadata": {},
     "output_type": "execute_result"
    }
   ],
   "source": [
    "#Group by the benign and malignant cells and then descriptive stats, then stack to format neatly into cell\n",
    "df.groupby('class').describe().stack()"
   ]
  },
  {
   "cell_type": "markdown",
   "id": "4e7ce247",
   "metadata": {},
   "source": [
    "# Michelle Visualization Section"
   ]
  },
  {
   "cell_type": "code",
   "execution_count": 16,
   "id": "02e2a115",
   "metadata": {},
   "outputs": [
    {
     "data": {
      "image/png": "[encoded data removed]",
      "text/plain": [
       "<Figure size 360x360 with 1 Axes>"
      ]
     },
     "metadata": {
      "needs_background": "light"
     },
     "output_type": "display_data"
    }
   ],
   "source": [
    "dict = {'2': 'benign', '4': 'malignant'}\n",
    "\n",
    "df['class'].replace(2, 'Benign', inplace=True)\n",
    "df['class'].replace(4, 'Malignant', inplace=True)\n",
    "\n",
    "\n",
    "df.groupby('class')['clump_thickness'].plot.hist(alpha=.5)\n",
    "plt.xlabel('Clump Thickness (scale 1- 10)')\n",
    "plt.title('Clump Thickness')\n",
    "_ = plt.legend()\n"
   ]
  },
  {
   "cell_type": "code",
   "execution_count": 17,
   "id": "96a9984e",
   "metadata": {},
   "outputs": [
    {
     "data": {
      "image/png": "[encoded data removed]",
      "text/plain": [
       "<Figure size 360x360 with 1 Axes>"
      ]
     },
     "metadata": {
      "needs_background": "light"
     },
     "output_type": "display_data"
    }
   ],
   "source": [
    "df.groupby('class')['unif_cell_size'].plot.hist(alpha=.5)\n",
    "plt.xlabel('Uniform Cell Size (scale 1- 10)')\n",
    "plt.title('Uniform Cell Size')\n",
    "_ = plt.legend()"
   ]
  },
  {
   "cell_type": "code",
   "execution_count": 18,
   "id": "12da1d26",
   "metadata": {},
   "outputs": [
    {
     "data": {
      "image/png": "[encoded data removed]",
      "text/plain": [
       "<Figure size 360x360 with 2 Axes>"
      ]
     },
     "metadata": {
      "needs_background": "light"
     },
     "output_type": "display_data"
    }
   ],
   "source": [
    "_ = df.plot.scatter(x='unif_cell_size', y='unif_cell_shape', c='clump_thickness', cmap = 'magma')"
   ]
  },
  {
   "cell_type": "markdown",
   "id": "2104f407-fd88-4a0c-911f-7888e5317a2e",
   "metadata": {},
   "source": [
    "Notice the Means for the malignant cells are higher in every single category."
   ]
  },
  {
   "cell_type": "markdown",
   "id": "b0425579",
   "metadata": {},
   "source": [
    "# Homework 5"
   ]
  },
  {
   "cell_type": "code",
   "execution_count": 19,
   "id": "e227b8d0",
   "metadata": {},
   "outputs": [],
   "source": [
    "from sklearn import mixture\n",
    "\n",
    "from sklearn.model_selection import train_test_split, GridSearchCV\n",
    "from sklearn import svm, linear_model, datasets\n",
    "from sklearn.tree import DecisionTreeClassifier\n",
    "from sklearn.neighbors import KNeighborsClassifier\n",
    "\n",
    "from sklearn.metrics import (confusion_matrix, precision_score, recall_score,\n",
    "                             accuracy_score, roc_auc_score, RocCurveDisplay)\n",
    "\n",
    "from sklearn.datasets import make_classification\n",
    "from sklearn.ensemble import GradientBoostingClassifier\n",
    "from imblearn.over_sampling import RandomOverSampler\n",
    "from sklearn.impute import SimpleImputer"
   ]
  },
  {
   "cell_type": "code",
   "execution_count": 20,
   "id": "fe0163d1",
   "metadata": {},
   "outputs": [
    {
     "name": "stdout",
     "output_type": "stream",
     "text": [
      "<class 'pandas.core.frame.DataFrame'>\n",
      "<class 'numpy.ndarray'>\n"
     ]
    }
   ],
   "source": [
    "df.replace('?', 1000, inplace=True)\n",
    "\n",
    "X = df[['clump_thickness', 'unif_cell_size', 'unif_cell_shape', 'marg_adhesion', 'single_epith_cell_size', 'bland_chrom', 'norm_nucleoli', 'mitoses']]\n",
    "y = df['class']\n",
    "print(type(X))\n",
    "imp = SimpleImputer(missing_values=1000, strategy='mean', fill_value=None)\n",
    "#imp.fit_transform(df[['clump_thickness']])\n",
    "#imp.fit_transform(df[['unif_cell_size']])\n",
    "#imp.fit_transform(df[['unif_cell_shape']])\n",
    "#imp.fit_transform(df[['marg_adhesion']])\n",
    "#imp.fit_transform(df[['single_epith_cell_size']])\n",
    "#imp.fit_transform(df[['bland_chrom']])\n",
    "#imp.fit_transform(df[['norm_nucleoli']])\n",
    "#imp.fit_transform(df[['mitoses']])\n",
    "X = imp.fit_transform(X)\n",
    "print(type(X))"
   ]
  },
  {
   "cell_type": "code",
   "execution_count": 21,
   "id": "ce80c543",
   "metadata": {},
   "outputs": [],
   "source": [
    "X_train, X_tmp, y_train, y_tmp = train_test_split(X, y, test_size=.2, random_state=0, stratify=y)\n",
    "X_valid, X_test, y_valid, y_test = train_test_split(X_tmp, y_tmp, test_size=.5,random_state=0, stratify=y_tmp)"
   ]
  },
  {
   "cell_type": "code",
   "execution_count": 24,
   "id": "41539bf8",
   "metadata": {},
   "outputs": [
    {
     "name": "stdout",
     "output_type": "stream",
     "text": [
      "{'C': 100}\n",
      "0\n"
     ]
    }
   ],
   "source": [
    "classifiers = [linear_model.LogisticRegression(max_iter = 5000), svm.SVC(), DecisionTreeClassifier(criterion = 'entropy'), KNeighborsClassifier(metric='euclidean')]\n",
    "parameters = [{'C': [0.01, 1, 100]},\n",
    "              {'kernel': ['linear', 'rbf'], 'C': [0.01, 1, 100]},\n",
    "                  {'max_depth': [1, 3, 5, 7]},\n",
    "                  {'n_neighbors': [1, 2, 3, 4]}]\n",
    "\n",
    "best_index = -1\n",
    "best_accuracy = -np.Inf\n",
    "best_classifier = None\n",
    "\n",
    "for i in range(0, 4):\n",
    "    clf = GridSearchCV(classifiers[i], parameters[i])\n",
    "    clf.fit(X_train, y_train)\n",
    "    clf.score(X_valid, y_valid)\n",
    "    if clf.score(X_valid, y_valid) > best_accuracy:\n",
    "        best_index = i\n",
    "        best_accuracy = clf.score(X_valid, y_valid)\n",
    "        best_classifier = clf.best_params_\n",
    "        \n",
    "print(best_classifier)\n",
    "print(best_index)\n"
   ]
  },
  {
   "cell_type": "markdown",
   "id": "faa507c3",
   "metadata": {},
   "source": [
    "# Permutation Feature Importance"
   ]
  },
  {
   "cell_type": "code",
   "execution_count": 23,
   "id": "6023583b",
   "metadata": {},
   "outputs": [
    {
     "name": "stdout",
     "output_type": "stream",
     "text": [
      "pi.importances_mean=[1.30199569e-01 3.32886863e-02 8.87832723e-02 3.56990351e-02\n",
      " 5.86329972e-03 6.78250822e-02 2.58765706e-02 4.48116975e-07]\n",
      "pi.importances_std=[7.34741881e-03 2.86992622e-03 6.89197350e-03 5.75010914e-03\n",
      " 1.08901742e-03 5.95181176e-03 3.27724671e-03 1.69757767e-06]\n",
      "pi.importances=[[ 1.26824160e-01  1.40753382e-01  1.27667277e-01  1.19816091e-01\n",
      "   1.35936933e-01]\n",
      " [ 3.29654451e-02  3.53400249e-02  3.17174336e-02  2.90636525e-02\n",
      "   3.73568753e-02]\n",
      " [ 8.60343633e-02  9.20809991e-02  8.99957061e-02  7.75092835e-02\n",
      "   9.82960096e-02]\n",
      " [ 3.64126819e-02  4.30259439e-02  2.88473368e-02  2.94710715e-02\n",
      "   4.07381413e-02]\n",
      " [ 5.97688129e-03  7.04631807e-03  4.40481758e-03  4.85403707e-03\n",
      "   7.03444458e-03]\n",
      " [ 6.56013706e-02  7.36884931e-02  6.47675894e-02  5.95252933e-02\n",
      "   7.55426645e-02]\n",
      " [ 2.50733878e-02  2.87407102e-02  2.83571590e-02  1.98383588e-02\n",
      "   2.73732372e-02]\n",
      " [ 1.58423988e-06 -7.16259743e-07  8.90013937e-07  2.63727934e-06\n",
      "  -2.15468853e-06]]\n"
     ]
    },
    {
     "ename": "TypeError",
     "evalue": "__init__() got an unexpected keyword argument 'cols'",
     "output_type": "error",
     "traceback": [
      "\u001b[1;31m---------------------------------------------------------------------------\u001b[0m",
      "\u001b[1;31mTypeError\u001b[0m                                 Traceback (most recent call last)",
      "Input \u001b[1;32mIn [23]\u001b[0m, in \u001b[0;36m<cell line: 11>\u001b[1;34m()\u001b[0m\n\u001b[0;32m      8\u001b[0m \u001b[38;5;28mprint\u001b[39m(\u001b[38;5;124mf\u001b[39m\u001b[38;5;124m'\u001b[39m\u001b[38;5;124mpi.importances_std=\u001b[39m\u001b[38;5;132;01m{\u001b[39;00mpi\u001b[38;5;241m.\u001b[39mimportances_std\u001b[38;5;132;01m}\u001b[39;00m\u001b[38;5;124m'\u001b[39m)\n\u001b[0;32m      9\u001b[0m \u001b[38;5;28mprint\u001b[39m(\u001b[38;5;124mf\u001b[39m\u001b[38;5;124m'\u001b[39m\u001b[38;5;124mpi.importances=\u001b[39m\u001b[38;5;132;01m{\u001b[39;00mpi\u001b[38;5;241m.\u001b[39mimportances\u001b[38;5;132;01m}\u001b[39;00m\u001b[38;5;124m'\u001b[39m)\n\u001b[1;32m---> 11\u001b[0m X \u001b[38;5;241m=\u001b[39m \u001b[43mpd\u001b[49m\u001b[38;5;241;43m.\u001b[39;49m\u001b[43mDataFrame\u001b[49m\u001b[43m(\u001b[49m\u001b[43mX\u001b[49m\u001b[43m,\u001b[49m\u001b[43m \u001b[49m\u001b[43mcols\u001b[49m\u001b[43m \u001b[49m\u001b[38;5;241;43m=\u001b[39;49m\u001b[43m \u001b[49m\u001b[43m[\u001b[49m\u001b[38;5;124;43m'\u001b[39;49m\u001b[38;5;124;43mclump_thickness\u001b[39;49m\u001b[38;5;124;43m'\u001b[39;49m\u001b[43m,\u001b[49m\u001b[43m \u001b[49m\u001b[38;5;124;43m'\u001b[39;49m\u001b[38;5;124;43munif_cell_size\u001b[39;49m\u001b[38;5;124;43m'\u001b[39;49m\u001b[43m,\u001b[49m\u001b[43m \u001b[49m\u001b[38;5;124;43m'\u001b[39;49m\u001b[38;5;124;43munif_cell_shape\u001b[39;49m\u001b[38;5;124;43m'\u001b[39;49m\u001b[43m,\u001b[49m\u001b[43m \u001b[49m\u001b[38;5;124;43m'\u001b[39;49m\u001b[38;5;124;43mmarg_adhesion\u001b[39;49m\u001b[38;5;124;43m'\u001b[39;49m\u001b[43m,\u001b[49m\u001b[43m \u001b[49m\u001b[38;5;124;43m'\u001b[39;49m\u001b[38;5;124;43msingle_epith_cell_size\u001b[39;49m\u001b[38;5;124;43m'\u001b[39;49m\u001b[43m,\u001b[49m\u001b[43m \u001b[49m\u001b[38;5;124;43m'\u001b[39;49m\u001b[38;5;124;43mbland_chrom\u001b[39;49m\u001b[38;5;124;43m'\u001b[39;49m\u001b[43m,\u001b[49m\u001b[43m \u001b[49m\u001b[38;5;124;43m'\u001b[39;49m\u001b[38;5;124;43mnorm_nucleoli\u001b[39;49m\u001b[38;5;124;43m'\u001b[39;49m\u001b[43m,\u001b[49m\u001b[43m \u001b[49m\u001b[38;5;124;43m'\u001b[39;49m\u001b[38;5;124;43mmitoses\u001b[39;49m\u001b[38;5;124;43m'\u001b[39;49m\u001b[43m]\u001b[49m\u001b[43m)\u001b[49m\n\u001b[0;32m     12\u001b[0m \u001b[38;5;66;03m#plt.bar(x=range(X.columns.size), height=pi.importances_mean, tick_label=X.columns)\u001b[39;00m\n\u001b[0;32m     13\u001b[0m \u001b[38;5;66;03m#plt.title('Feature importance for LinearRegression, mpg vs. rest of mtcars')\u001b[39;00m\n\u001b[0;32m     14\u001b[0m \u001b[38;5;66;03m#plt.xlabel('feature name')\u001b[39;00m\n\u001b[0;32m     15\u001b[0m \u001b[38;5;66;03m#_ = plt.ylabel(r'reduction in $R^2$ on shuffling feature')\u001b[39;00m\n\u001b[0;32m     16\u001b[0m \u001b[38;5;28mprint\u001b[39m(\u001b[38;5;28mtype\u001b[39m(X))\n",
      "\u001b[1;31mTypeError\u001b[0m: __init__() got an unexpected keyword argument 'cols'"
     ]
    }
   ],
   "source": [
    "df['class'].replace('Benign', 2, inplace=True)\n",
    "df['class'].replace('Malignant', 4, inplace=True)\n",
    "\n",
    "model = linear_model.LinearRegression()\n",
    "model.fit(X, y)\n",
    "pi = permutation_importance(estimator=model, X=X, y=y, random_state=0)\n",
    "print(f'pi.importances_mean={pi.importances_mean}')\n",
    "print(f'pi.importances_std={pi.importances_std}')\n",
    "print(f'pi.importances={pi.importances}')\n",
    "\n",
    "X = pd.DataFrame(X, cols = ['clump_thickness', 'unif_cell_size', 'unif_cell_shape', 'marg_adhesion', 'single_epith_cell_size', 'bland_chrom', 'norm_nucleoli', 'mitoses'])\n",
    "#plt.bar(x=range(X.columns.size), height=pi.importances_mean, tick_label=X.columns)\n",
    "#plt.title('Feature importance for LinearRegression, mpg vs. rest of mtcars')\n",
    "#plt.xlabel('feature name')\n",
    "#_ = plt.ylabel(r'reduction in $R^2$ on shuffling feature')\n",
    "print(type(X))"
   ]
  },
  {
   "cell_type": "markdown",
   "id": "a091adfd-3a51-4cee-90f8-0095abd32914",
   "metadata": {},
   "source": [
    "# Confusion Matrix Section"
   ]
  },
  {
   "cell_type": "code",
   "execution_count": null,
   "id": "cf9b1659-d129-4ed6-90bb-5e1f6e0096aa",
   "metadata": {},
   "outputs": [],
   "source": [
    "# Cell for General Confusion Matrix\n",
    "rf = RandomForestClassifier(n_estimators=100)\n",
    "forestResults = rf.fit(x,y)\n",
    "#x['forestPrediction'] = forestResults.predict(x)\n",
    "x['forestPrediction'] = cross_val_predict(forestResults, x, y, cv=10)\n",
    "x['forestPredicProba'] = cross_val_predict(forestResults, x, y, cv=10, method='predict_proba')[:,1]\n",
    "t = pd.merge(x, y.to_frame(), left_index=True, right_index=True)\n",
    "\n",
    "\n",
    "\n",
    "tn = t[(t.class == 0) & (t.forestPrediction==0)].index.size\n",
    "fp = t[(t.class == 0) & (t.forestPrediction==1)].index.size\n",
    "fn = t[(t.class == 1) & (t.forestPrediction==0)].index.size\n",
    "tp = t[(t.class == 1) & (t.forestPrediction==1)].index.size\n",
    "\n",
    "precision , recall, accuracy = (float(tp)/(tp+fp),float(tp)/(tp+fn), float(tp+tn)/float(tp+tn+fp+fn))\n",
    "f1score = 2*precision * recall / (precision + recall)\n",
    "\n",
    "print('\\n Confusion Matrix')\n",
    "display(\n",
    "pd.DataFrame(data={' Predicted Survived': ['True Positive: '+str(tp), 'False Positive: '+str(fp)], \n",
    "                   'Predicted Not Survived': ['False Negative: '+str(fn), 'True Negative: '+str(tn)]}, index=['Survived','Not Survived']))\n",
    "\n",
    "display(\n",
    "pd.DataFrame(data={'Metric': ['Precision', 'Recall', 'F1 Score', 'Accuracy'], \n",
    "                   'Performance': [precision, recall, f1score, accuracy]}))\n",
    "\n",
    "## Append to scores table\n",
    "new_row = pd.DataFrame([['First_Pass_RF',precision, recall, f1score, accuracy,0]], columns=score_cols)\n",
    "scores = scores.append(new_row)\n",
    "# Update ROC score\n",
    "scores.loc[scores['Model']=='First_Pass_RF',['ROC_Area']] = roc_auc_score(t['Survived'], x['forestPredicProba'])"
   ]
  },
  {
   "cell_type": "code",
   "execution_count": null,
   "id": "472d43a3",
   "metadata": {},
   "outputs": [],
   "source": [
    "#Train Test Split Cell"
   ]
  }
 ],
 "metadata": {
  "kernelspec": {
   "display_name": "Python 3 (ipykernel)",
   "language": "python",
   "name": "python3"
  },
  "language_info": {
   "codemirror_mode": {
    "name": "ipython",
    "version": 3
   },
   "file_extension": ".py",
   "mimetype": "text/x-python",
   "name": "python",
   "nbconvert_exporter": "python",
   "pygments_lexer": "ipython3",
   "version": "3.9.12"
  }
 },
 "nbformat": 4,
 "nbformat_minor": 5
}
